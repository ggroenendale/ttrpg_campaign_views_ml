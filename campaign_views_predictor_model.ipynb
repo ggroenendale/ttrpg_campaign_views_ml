{
 "cells": [
  {
   "metadata": {},
   "cell_type": "markdown",
   "source": [
    "# Predicting D&D Campaign YouTube Views\n",
    "\n",
    "I have been building a dataset of TTRPG playlists from YouTube and Podcast formats. What I aimed to do with this project is to create a model that could take in the parameters of a TTRPG show and predict the number of views it could receive or identify if the kind of game system, number of players, or age of the channel didn't correlate and thus wasn't necessary for those creating new channels.\n",
    "\n",
    "For this I created three sets of features: A tfidf vector based on the keywords returned from YouTubes API, a game system onehot encoded value for every game system used in the dataset. For instance Dungeons and Dragons may be a 1, Pathfinder is a 2, Blades in the Dark is a 3 and so on. And then the remainder of the data was all numeric data. In total this was the data used for the model:\n",
    "\n",
    "#### Data\n",
    "\n",
    "| Data Field              | Data Type | Description                                                                                                                                             |\n",
    "|-------------------------|-----------|:--------------------------------------------------------------------------------------------------------------------------------------------------------|\n",
    "| Genre Keywords          | String[]  | Genre keywords is stored as a text string with each keyword separated by a comma and surrounded by double quotes. Ex. [\"fantasy\", \"tabletop\", \"gaming\"] |\n",
    "| Game System Type        | String    | Game system is a string value and is the name of the Game System used. Ex. Dungeons and Dragons, Pathfinder, Delta Green, etc.                          |\n",
    "| Channel Age             | Integer   | Channel age is the number of days between the date the channel was created to 11/10/2024                                                                |\n",
    "| Campaign Age            | Integer   | Campaign age is the number of days between the date the campaign playlist was created to 11/10/2024                                                     |\n",
    "| Episode Count           | Integer   | The number of episodes in the campaign based on the number of videos attached to the playlist.                                                          |\n",
    "| Combined Episode Length | Integer   | The combined duration of each episode. First each video length is calculted to the number of seconds, then they are totaled.                            |\n",
    "| Average Episode Length  | Float     | The average duration for all episodes in the playlist. This is the combined episode length divided by the number of episodes.                           |\n",
    "\n",
    "### Goal\n",
    "\n",
    "I am going to use these datapoints to train a model that predicts:\n",
    "- total campaign views or \n",
    "- average video views\n",
    "\n",
    "What I hope to determine is to find what parameters a new TTRPG gaming group could begin with in order to ensure decent view counts. My initial assumptions are that campaigns using Dungeons and Dragons have a good chance of having higher view counts. I also imagine that campaigns with genre keywords like \"comedy\" will have a higher view count than \"horror\" or \"political intrigue\". There are also campaigns with very long episode durations like 4 hours, and campaigns with shorter episodes even down to 30 minutes each episode with a lot of extra content trimmed out. Lastly, I predict that age of the channel or age of the campaign will be the biggest predictor of view counts simply by having a longer time to capture views.\n",
    "\n",
    "There was some available data I kept out of this model. I didn't include YouTube engagement information like subscriber count, like count, or comment count. My problem statement is to try to recommend parameters that the group can control and subscriber counts or like counts are outside of their control. I do wonder however if subscriber count is a likely predictor of view counts and is unique enough from channel and campaign age to make the model more accurate. I also tried to include data on the number of players in a campaign. This became very difficult to add to the dataset and I created a number of methods to try and determine this including creating a named recognition model with the spacy library and my own spans and tagging methods to try and count player names. Eventually I would like to add player demographics and see if that plays a part in a campaign's performance. For example are people more likely to watch a campaign if there is diversity in gender, LGBT, and POC inclusion.  \n",
    "\n",
    "### Problems\n",
    "\n",
    "A glaring problem with the current state of this project is the size of the dataset. I tried to create methods to identify and tag each playlist a certain way. For instance I tried to use a named entity recognition model in Spacy to identify as many campaigns with Dungeons and Dragons or Pathfinder in their descriptions. The problem was is the generic spacy language model for English isn't trained to identify all TTRPG game systems as their \"PRODUCT\" entity type. I did create a method of tagging descriptions however I ran out of time to create enough tagged descriptions to be able to predict game systems for all descriptions. So at this time I only have 11 campaigns tagged with the game system used. "
   ],
   "id": "b804f63092ef47c4"
  },
  {
   "metadata": {},
   "cell_type": "markdown",
   "source": [
    "```mermaid\n",
    "graph TB\n",
    "\n",
    "subgraph youtube[YouTube API]\n",
    "    A>Playlist Search Endpoint]\n",
    "    C>Playlist Items Endpoint]\n",
    "    F>Video Stats Endpoint]\n",
    "end\n",
    "\n",
    "subgraph dw[Data Warehouse]\n",
    "    direction TB\n",
    "    B[(Playlist Store)]\n",
    "    D[(Playlist Item Store)]\n",
    "    E[(Video Stats Store)]\n",
    "    GS[(Game System Records)]\n",
    "    PL[(Player Records)]\n",
    "end\n",
    "\n",
    "A -->|Get Playlist Metadata| P[[Playlist Puller]]\n",
    "P --> B\n",
    "C -->|Retrieve Playlist Items| PI[[Playlist Item Puller]]\n",
    "B --> PI\n",
    "PI --> D\n",
    "F -->|Update Video Statistics| VS[[Video Stats Puller]]\n",
    "D--> VS\n",
    "VS ----> E\n",
    "\n",
    "B -->|channel_date,\\n playlist_date| data\n",
    "D -->|video_name,\\n video_keywords,\\n episode_count| data\n",
    "E -->|view_count,\\n video_length| data\n",
    "M[\\Manual Input/] -.- MAPI{{MyTableTopList API}}\n",
    "MAPI -.- GS\n",
    "MAPI -.- PL\n",
    "GS -->|game_system_name| data\n",
    "PL -.-|player_count| data \n",
    "\n",
    "data[\\Data\\] --> model[[Views Predictor Model]]\n",
    "\n",
    "subgraph legend\n",
    "    direction LR\n",
    "    Y[(Database Table)] \n",
    "    Z[[Airflow DAG]]\n",
    "    X{{API}}\n",
    "end\n",
    "\n",
    "style youtube fill:#f66\n",
    "style M fill:#0f0\n",
    "style legend fill:#c0b3ec\n",
    "style dw fill:#20d4ce\n",
    "```"
   ],
   "id": "eca00b5144bc1791"
  },
  {
   "metadata": {},
   "cell_type": "markdown",
   "source": "### Library Imports",
   "id": "e6feeb58b88bc1c3"
  },
  {
   "metadata": {
    "ExecuteTime": {
     "end_time": "2024-11-11T15:47:36.841925Z",
     "start_time": "2024-11-11T15:47:36.835224Z"
    }
   },
   "cell_type": "code",
   "source": [
    "# Imports\n",
    "from pyspark.sql import SparkSession, Window\n",
    "from pyspark.sql.functions import (\n",
    "    row_number,\n",
    "    col,\n",
    "    when,\n",
    "    desc,\n",
    "    udf,\n",
    "    concat_ws,\n",
    "    explode,\n",
    "    split,\n",
    "    count,\n",
    "    regexp_replace,\n",
    "    size,\n",
    "    sum,\n",
    "    expr,\n",
    "    first,\n",
    "    avg,\n",
    "    variance,\n",
    "    concat,\n",
    "    lit,\n",
    "    lower)\n",
    "from pyspark.sql.types import StructType, StructField, ArrayType, StringType, IntegerType, DoubleType\n",
    "from pyspark.ml.feature import HashingTF, IDF, StringIndexer, OneHotEncoder, VectorAssembler\n",
    "from pyspark.ml.regression import RandomForestRegressor\n",
    "from pyspark.ml.evaluation import RegressionEvaluator\n",
    "from pyspark.sql import SparkSession\n",
    "\n",
    "from pathlib import Path"
   ],
   "id": "1039b7560eede301",
   "outputs": [],
   "execution_count": 6
  },
  {
   "metadata": {},
   "cell_type": "markdown",
   "source": "### Creating Spark Context",
   "id": "1d29d093b5996577"
  },
  {
   "metadata": {
    "ExecuteTime": {
     "end_time": "2024-11-11T15:33:17.041895Z",
     "start_time": "2024-11-11T15:33:04.934661Z"
    }
   },
   "cell_type": "code",
   "source": [
    "# First we set up a spark session and define the database parameters. \n",
    "spark = SparkSession \\\n",
    "    .builder \\\n",
    "    .appName(\"YouTube Views Prediction Model\") \\\n",
    "    .config(\"spark.serializer\", \"org.apache.spark.serializer.KryoSerializer\") \\\n",
    "    .config(\"spark.driver.maxResultSize\", \"8g\") \\\n",
    "    .config(\"spark.network.timeout\", 10000000) \\\n",
    "    .config(\"spark.executor.heartbeatInterval\", 10000000) \\\n",
    "    .config(\"spark.storage.blockManagerSlaveTimeoutMs\", 10000000) \\\n",
    "    .config(\"spark.executor.memory\", \"10g\") \\\n",
    "    .master(\"local\") \\\n",
    "    .getOrCreate()"
   ],
   "id": "17a186bdb00a38a4",
   "outputs": [
    {
     "name": "stderr",
     "output_type": "stream",
     "text": [
      "24/11/11 07:33:11 WARN Utils: Your hostname, geoff-workstation resolves to a loopback address: 127.0.1.1; using 192.168.1.47 instead (on interface eno1)\n",
      "24/11/11 07:33:11 WARN Utils: Set SPARK_LOCAL_IP if you need to bind to another address\n",
      "Setting default log level to \"WARN\".\n",
      "To adjust logging level use sc.setLogLevel(newLevel). For SparkR, use setLogLevel(newLevel).\n",
      "24/11/11 07:33:13 WARN NativeCodeLoader: Unable to load native-hadoop library for your platform... using builtin-java classes where applicable\n",
      "24/11/11 07:33:15 WARN Utils: Service 'SparkUI' could not bind on port 4040. Attempting port 4041.\n"
     ]
    }
   ],
   "execution_count": 2
  },
  {
   "metadata": {},
   "cell_type": "markdown",
   "source": "### Getting data from csv file ",
   "id": "f0adc9f2c844e774"
  },
  {
   "metadata": {
    "ExecuteTime": {
     "end_time": "2024-11-11T15:47:40.461928Z",
     "start_time": "2024-11-11T15:47:39.267390Z"
    }
   },
   "cell_type": "code",
   "source": [
    "# Create a DataFrame of the campaigns and associated data from the database\n",
    "campaign_schema = StructType([\n",
    "    StructField('playlist_id', StringType(), True),\n",
    "    StructField('campaign_uuid', StringType(), True),\n",
    "    StructField('campaign_name', StringType(), True),\n",
    "    StructField('campaign_age', IntegerType(), True),\n",
    "    StructField('channel_age', IntegerType(), True),\n",
    "    StructField('genre', StringType(), True),\n",
    "    StructField('game_system', StringType(), True),\n",
    "    StructField('episode_count', IntegerType(), True),\n",
    "    StructField('tot_video_length', IntegerType(), True),\n",
    "    StructField('avg_video_length', DoubleType(), True),\n",
    "    StructField('avg_view_count', DoubleType(), True),\n",
    "    StructField('total_view_count', IntegerType(), True),\n",
    "])\n",
    "campaigns_data = spark.read.csv('campaigns_data.csv', schema=campaign_schema)\n",
    "campaigns_data.show(20, truncate=False)"
   ],
   "id": "8f9eeb95e5837cc1",
   "outputs": [
    {
     "name": "stdout",
     "output_type": "stream",
     "text": [
      "+----------------------------------+------------------------------------+------------------------------------------------+------------+-----------+--------------------------------------------------------------------------------------------------------------------------------------------------------------------------------------------------------------------------------------------------------------------------------------------------------------------------------------------------------------------------------------------------------------------------------------------------------------------------------------------------------------------------------------------------------------------------------------------------------+-----------------------+-------------+----------------+------------------+------------------+----------------+\n",
      "|playlist_id                       |campaign_uuid                       |campaign_name                                   |campaign_age|channel_age|genre                                                                                                                                                                                                                                                                                                                                                                                                                                                                                                                                                                                                   |game_system            |episode_count|tot_video_length|avg_video_length  |avg_view_count    |total_view_count|\n",
      "+----------------------------------+------------------------------------+------------------------------------------------+------------+-----------+--------------------------------------------------------------------------------------------------------------------------------------------------------------------------------------------------------------------------------------------------------------------------------------------------------------------------------------------------------------------------------------------------------------------------------------------------------------------------------------------------------------------------------------------------------------------------------------------------------+-----------------------+-------------+----------------+------------------+------------------+----------------+\n",
      "|PL1tiwbzkOjQxD0jjAE7PsWoaCrs0EkBH2|bcd4f492-d55b-4925-86df-6255b2d03f84|Campaign Two: The Mighty Nein                   |2334        |2359       |['critical role', 'crit role', 'cr', 'matthew mercer', 'matt mercer', 'marisha ray', 'taliesin jaffe', 'liam obrien', 'sam riegel', 'laura bailey', 'travis willingham', 'jester', 'fjord', 'beauregard', 'beau', 'nott', 'veth', 'caleb', 'caduceus', 'critical role episode 111', 'critical role campaign 2', 'critical role campaign 2 episode 111', 'critical role foundation', 'crit role charity', 'dungeons and dragons', 'mighty nein', 'role playing game', 'ashley johnson', 'critical role d&d', 'd&d']                                                                                      |Dungeons and Dragons   |312          |4460765         |14297.323717948719|3361749.503205128 |1048865845      |\n",
      "|PLHv5CBoZYv4X1Y28QjMWxvpbwekl9Df44|f6662638-4351-4a6f-8730-b5cd98f3df89|DEAD RECKONING                                  |2536        |5388       |['twitch', 'games', 'D&D', 'Dungeons & Dragons', 'Dungeons and Dragons', 'High Rollers', 'Dead Reckoning', 'Mark Hulmes', 'Chris Trott', 'Katie Morrison', 'Tom Hazell', 'Kim Richards', 'Tomb of Annihilation']                                                                                                                                                                                                                                                                                                                                                                                        |Dungeons and Dragons   |12           |86401           |7200.083333333333 |51979.0           |623748          |\n",
      "|PL1tiwbzkOjQzSnYHVT8X4pyMIbSX3i4gz|f171d254-fc52-4ac4-b391-d408978227ac|Exandria Unlimited                              |1245        |2359       |['Exandria Unlimited', 'aimee carrero', 'matthew mercer', 'matt mercer', 'ashley johnson', 'liam obrien', 'robbie daymond', 'aabria iyengar', 'aabria gm', 'The Nameless Ones']                                                                                                                                                                                                                                                                                                                                                                                                                         |Dungeons and Dragons   |11           |122458          |11132.545454545454|1413695.3636363635|15550649        |\n",
      "|PL1tiwbzkOjQz7D0l_eLJGAISVtcL7oRu_|532ed697-15b8-41a0-9dae-eda025fb825d|Campaign 1: Vox Machina                         |2334        |4821       |['geek and sundry', 'geek & sundry', 'felicia day', 'the guild', 'charlie supernatural']                                                                                                                                                                                                                                                                                                                                                                                                                                                                                                                |Dungeons and Dragons   |750          |10356003        |13808.004         |2894749.405333333 |NULL            |\n",
      "|PL7atuZxmT955aQO-G-3LR6kgX4EU2qrHg|5122d86f-c9c0-40f3-bad7-e38fe0ff14b3|Shield of Tomorrow                              |2466        |4821       |['geek and sundry', 'geek & sundry', 'felicia day', 'the guild', 'charlie supernatural', 'critical role', 'star trek', 'tng', 'next generation', 'Klingon', 'Vulcan', 'hector navarro', 'bonnie gordon', 'eric campbell', 'gina devivo', 'sam de leve', 'aliza pearl', 'modiphius', 'callisto 6']                                                                                                                                                                                                                                                                                                       |Star Trek Adventures   |58           |595215          |10262.327586206897|40152.56896551724 |2328849         |\n",
      "|PL7atuZxmT957CplbNHCN5JAGp9SoZhyUH|844d87e0-aa8a-471a-89be-085ef19f5b32|Vampire: The Masquerade - L.A. By Night         |2150        |4821       |['geek and sundry', 'geek & sundry', 'felicia day', 'the guild', 'critical role', 'tabletop', 'b dave walters', 'cynthia marie', 'alex ward', 'erika ishii', 'jason carl', 'vampire the masquerade', 'white wolf', 'nosferatu', 'mark meer', 'mass effect']                                                                                                                                                                                                                                                                                                                                             |Vampire: The Masquerade|41           |320654          |7820.829268292683 |250822.17073170733|10283709        |\n",
      "|PL8UrCqt275jEBJ07mm2FoTWTZiU4rhCQA|5800b0c4-2c79-44cc-bf67-65951c86040e|NPC D&D - Entire campaign - Adventures of Azerim|1595        |1699       |['viva la dirt league', 'viva la dirt league D&D', 'viva la dirt league dnd', 'vldl', 'vldl dnd', 'vldl D&D', 'dnd', 'D&D', 'dungeons and dragons', 'wizards of the coast', 'vldl dungeons and dragons', 'viva la dirt league dungeons and dragons', 'epic npc man', 'NPC man', 'NPC man D&D', 'NPC D&D', 'azerim', 'bodger', 'baradun', 'greg', 'greg the garlic farmer', 'honeywood', 'witcher', 'skyrim', 'world of warcraft', 'skycraft', 'D&D comedy', 'DnD comedy', 'Dungeons and Dragons comedy', 'dnd funny', 'D&D funny', 'Dungeons and Dragons funny']                                        |Dungeons and Dragons   |323          |609742          |1887.7461300309596|223663.71207430342|72243379        |\n",
      "|PLVNpxFW0remk0o5bGK6ld6_id40deAQHU|51bb2cd9-ab36-4ccd-be8e-4d2b82fbb06e|One Piece D&D                                   |1669        |1805       |['One Piece', 'Dungeons and Dragons', 'D&D', 'DND', 'one piece dnd', 'one piece dungeons and dragons', 'rpg', 'd20', 'tekking101', 'lost pause', 'rustage', '2spooky', 'Briggs']                                                                                                                                                                                                                                                                                                                                                                                                                        |Dungeons and Dragons   |73           |496182          |6797.013698630137 |178022.08219178082|12995612        |\n",
      "|PLZsrxxME7K30aQywpsS0rdSORFDn4qmYm|fd4f81bc-2127-4d96-abae-7268e92c1668|Curse of Strahdanya                             |2000        |2364       |['podcast', '5e', 'tabletop rpgs', 'dungeons & dragons', 'play', 'Ravenloft', 'actual play', 'von zarovich', 'strahd', 'ttrpg', 'twitch stream', 'campaign', 'tabletop roleplaying games', 'twitch', 'D&D 5e', 'persistent campaign', 'persistent', 'dungeons', 'role play', 'curse of strahd', 'dnd', 'dragons', 'barovia', 'dungeons and dragons', 'stream', 'roleplaying games', 'role', 'roleplaying', 'vistani', 'roleplay', 'playthrough', 'play through', 'playthru', 'sergei', 'castle ravenloft', 'tomb', 'argynvost', 'sergei von zarovich', 'berez', 'baba lysaga', 'lysaga', 'hag', 'witch']|Dungeons and Dragons   |22           |484629          |22028.590909090908|31257.0           |687654          |\n",
      "|PLZsrxxME7K31D-IxOsAAy924LLnM54v1u|90ffe862-f5fa-44c4-a51f-22780f6992e4|Once Upon a Witchlight                          |774         |2364       |['dungeons & dragons', 'roleplaying games', 'tabletop roleplaying games', 'tabletop rpgs', 'roleplay', 'twitch stream', 'D&D 5e', 'podcast', 'role play', 'role', 'play', 'critical role', 'critical', 'dnd', 'dungeons and dragons', 'dungeons', 'dragons', 'twitch', 'stream', 'actual play', 'campaign', 'persistent', 'persistent campaign', '5e', 'roleplaying', 'd&d', 'witchlight', 'once upon a witchlight', 'chuckles the clown', 'torbek', 'chuckles']                                                                                                                                        |Dungeons and Dragons   |56           |505627          |9029.05357142857  |113946.32142857143|6380994         |\n",
      "|PLhOoxQxz2yFOcJoLoPRyYzjqCbddeOjP4|967e4c02-ea97-4f25-be84-0597d38898bc|Dimension 20: Fantasy High                      |1939        |1975       |['school', 'fear', 'Dimension 20', 'fantasy high', 'brian murphy', 'ally beardsley', 'lou wilson', 'siobhan thompson', 'zac oyama', 'emily axford', 'brennan lee mulligan', 'high school', 'teens', 'mythical creatures', 'demons', 'magic', 'fantasies', 'role playing', 'dungeons and dragons', 'games', 'swords', 'violence', 'stabbing', 'murder', 'death', 'amputations', 'decapitation', 'mascots', 'poop', 'the finger', 'celebrations', 'fuck you', 'cults', 'religion', 'inspirational', 'bullying', 'flying', 'football', 'coaches', 'motorcycles', 'fights', 'battles', 'sports']            |Dungeons and Dragons   |194          |1188008         |6123.7525773195875|2304560.4484536084|447084727       |\n",
      "+----------------------------------+------------------------------------+------------------------------------------------+------------+-----------+--------------------------------------------------------------------------------------------------------------------------------------------------------------------------------------------------------------------------------------------------------------------------------------------------------------------------------------------------------------------------------------------------------------------------------------------------------------------------------------------------------------------------------------------------------------------------------------------------------+-----------------------+-------------+----------------+------------------+------------------+----------------+\n",
      "\n"
     ]
    }
   ],
   "execution_count": 7
  },
  {
   "metadata": {},
   "cell_type": "markdown",
   "source": [
    "### Creating Feature Vectors\n",
    "\n",
    "Here we split the columns from the dataframe into our numerical, categorical, and textual feature vectors.  \n",
    "\n",
    "#### Textual Feature Vector\n",
    "\n",
    "In order to use genres and keywords in the model in the simplest way possible, I turned the keywords data field into a tfidf vector. Tfidf stands for Term Frequency Inverse Document Frequency."
   ],
   "id": "e884ab77d393aab4"
  },
  {
   "metadata": {},
   "cell_type": "code",
   "outputs": [],
   "execution_count": null,
   "source": [
    "# Fix the text data in the keyword column\n",
    "campaigns_data = campaigns_data.withColumn(\"genre_set\", split(lower(regexp_replace(col(\"genre\"),\"[',\\\\[\\\\]]\", '')),','))"
   ],
   "id": "d9a6f7d4d1a3bc96"
  },
  {
   "metadata": {},
   "cell_type": "code",
   "outputs": [],
   "execution_count": null,
   "source": [
    "# Hash and transform the text data\n",
    "hashing_tf = HashingTF(inputCol=\"genre_set\", outputCol=\"genre_feature\", numFeatures=1000)\n",
    "tf_data = hashing_tf.transform(campaigns_data)\n",
    "\n",
    "# Then do an IDF\n",
    "idf = IDF(inputCol=\"genre_feature\", outputCol=\"genre_tfidf\")\n",
    "idf_model = idf.fit(tf_data)\n",
    "tfidf_data = idf_model.transform(tf_data)"
   ],
   "id": "c18a7dc8999a0260"
  },
  {
   "metadata": {},
   "cell_type": "markdown",
   "source": [
    "#### Categorical Feature\n",
    "The game system will utilize onehot encoding for each game system type."
   ],
   "id": "d742fc83fb0dffb9"
  },
  {
   "metadata": {},
   "cell_type": "code",
   "outputs": [],
   "execution_count": null,
   "source": [
    "# Create the categorical feature from the data\n",
    "indexer = StringIndexer(inputCol=\"game_system\", outputCol=\"game_system_index\")\n",
    "indexed_data = indexer.fit(tfidf_data).transform(tfidf_data)\n",
    "\n",
    "game_system_encoder = OneHotEncoder(inputCol=\"game_system_index\", outputCol=\"game_system_onehot\")\n",
    "gs_encoded = game_system_encoder.fit(indexed_data).transform(indexed_data)"
   ],
   "id": "a79408b2e428c57c"
  },
  {
   "metadata": {},
   "cell_type": "markdown",
   "source": [
    "#### Numerical Features\n",
    "\n",
    "Since we are using Spark, all we need to do is list the names of the columns to tell it to combine into the VectorAssembler."
   ],
   "id": "63aa162d25df814b"
  },
  {
   "metadata": {},
   "cell_type": "code",
   "outputs": [],
   "execution_count": null,
   "source": [
    "# Numerical features\n",
    "numerical_cols = [\"channel_age\",\"episode_count\",\"tot_video_length\",\"avg_length_of_video\"]"
   ],
   "id": "a6418577c3d13eb2"
  },
  {
   "metadata": {},
   "cell_type": "markdown",
   "source": "### Combining Vectors",
   "id": "5fe72f174aecff71"
  },
  {
   "metadata": {},
   "cell_type": "code",
   "outputs": [],
   "execution_count": null,
   "source": [
    "assembler = VectorAssembler(\n",
    "    inputCols=numerical_cols + [\"genre_tfidf\", \"game_system_onehot\"],\n",
    "    outputCol=\"features\"\n",
    ")\n",
    "final_data = assembler.transform(gs_encoded)"
   ],
   "id": "9c209aab9aa1a928"
  },
  {
   "metadata": {},
   "cell_type": "markdown",
   "source": [
    "## Train Test Split\n",
    "\n",
    "My aim is to use an 80% train size and a 20% test size. "
   ],
   "id": "6b7a37534c0eccc4"
  },
  {
   "metadata": {},
   "cell_type": "code",
   "outputs": [],
   "execution_count": null,
   "source": [
    "# Test size parameter\n",
    "t_size = 0.2\n",
    "seed = 1123\n",
    "\n",
    "# Create independent and dependent data frames\n",
    "train_df, test_df = final_data.randomSplit(weights=[1-t_size,t_size], seed=seed)"
   ],
   "id": "d5398827026abd78"
  },
  {
   "metadata": {},
   "cell_type": "markdown",
   "source": [
    "### Dependent Y Variable\n",
    "\n",
    "I left this so that I could switch what the dependent variable was if I want to predict for average view count in a campaign or a total view count. "
   ],
   "id": "c42aad10eb4800ed"
  },
  {
   "metadata": {},
   "cell_type": "code",
   "outputs": [],
   "execution_count": null,
   "source": [
    "# Create the dependent variable series\n",
    "# dependent_col = \"total_view_count\"\n",
    "dependent_col = \"avg_view_count\""
   ],
   "id": "4782b3050947e819"
  },
  {
   "metadata": {},
   "cell_type": "markdown",
   "source": "## Random Forest Regressor Model",
   "id": "47cb6a06011b84"
  },
  {
   "metadata": {},
   "cell_type": "code",
   "outputs": [],
   "execution_count": null,
   "source": [
    "# Create a Random Forest Classifier\n",
    "rf_regressor = RandomForestRegressor(featuresCol=\"features\", labelCol=dependent_col)\n",
    "\n",
    "# Build the pipeline\n",
    "rf_model = rf_regressor.fit(train_df)\n",
    "\n",
    "# Make predictions on the test set\n",
    "predictions = rf_model.transform(test_df)\n",
    "predictions.show(truncate=False)"
   ],
   "id": "de4d25d620c13111"
  },
  {
   "metadata": {},
   "cell_type": "code",
   "outputs": [],
   "execution_count": null,
   "source": [
    "# Evaluate the model\n",
    "evaluator = RegressionEvaluator(labelCol=dependent_col, predictionCol=\"prediction\", metricName=\"rmse\")\n",
    "rmse = evaluator.evaluate(predictions)\n",
    "print(f\"Root Mean Squared Error (RMSE): {rmse}\")\n",
    "print(f\"{predictions}\")"
   ],
   "id": "2a411e1e02f011f5"
  }
 ],
 "metadata": {
  "kernelspec": {
   "display_name": "Python 3",
   "language": "python",
   "name": "python3"
  },
  "language_info": {
   "codemirror_mode": {
    "name": "ipython",
    "version": 2
   },
   "file_extension": ".py",
   "mimetype": "text/x-python",
   "name": "python",
   "nbconvert_exporter": "python",
   "pygments_lexer": "ipython2",
   "version": "2.7.6"
  }
 },
 "nbformat": 4,
 "nbformat_minor": 5
}
